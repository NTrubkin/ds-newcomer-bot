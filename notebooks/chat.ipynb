{
 "cells": [
  {
   "cell_type": "code",
   "execution_count": 3,
   "id": "0cd03406-5c7b-46a1-a61e-28634f652027",
   "metadata": {},
   "outputs": [],
   "source": [
    "import sys\n",
    "from pathlib import Path\n",
    "\n",
    "from openai.types.chat.chat_completion import ChatCompletion\n",
    "\n",
    "sys.path.append(str(Path(\".\").resolve().parent))\n",
    "\n",
    "from config.openai_client import client"
   ]
  },
  {
   "cell_type": "markdown",
   "id": "021099f9-fdd9-4b9d-9ebb-abaf2d85d46a",
   "metadata": {},
   "source": [
    "# Запрос в Chat"
   ]
  },
  {
   "cell_type": "markdown",
   "id": "3f5512ed-1a98-4fbc-9255-963c569884d2",
   "metadata": {},
   "source": [
    "Дока для API: https://platform.openai.com/docs/api-reference/chat"
   ]
  },
  {
   "cell_type": "code",
   "execution_count": 18,
   "id": "8ed27387-559a-417d-92aa-898c3df0df60",
   "metadata": {},
   "outputs": [],
   "source": [
    "text: str = \"What is this 'ML'?\"\n",
    "response: ChatCompletion = client.chat.completions.create(\n",
    "    model=\"gpt-3.5-turbo\",\n",
    "    messages=[{\"role\": \"user\", \"content\": text}],\n",
    "    max_tokens=1024,\n",
    "    temperature=0.5,\n",
    "    # logprobs=True,\n",
    ")"
   ]
  },
  {
   "cell_type": "code",
   "execution_count": 19,
   "id": "cff80247-8145-4a7f-ad77-813973bd9623",
   "metadata": {},
   "outputs": [
    {
     "data": {
      "text/plain": [
       "Choice(finish_reason='stop', index=0, logprobs=None, message=ChatCompletionMessage(content='ML typically stands for Machine Learning, which is a subset of artificial intelligence that involves the development of algorithms and statistical models that enable computers to learn from and make predictions or decisions based on data without being explicitly programmed. Machine learning is used in a wide range of applications, including image and speech recognition, recommendation systems, and autonomous vehicles.', role='assistant', function_call=None, tool_calls=None))"
      ]
     },
     "execution_count": 19,
     "metadata": {},
     "output_type": "execute_result"
    }
   ],
   "source": [
    "response.choices[0]"
   ]
  },
  {
   "cell_type": "code",
   "execution_count": 20,
   "id": "5c07436a-cac5-425a-abbe-cb259081a228",
   "metadata": {},
   "outputs": [
    {
     "data": {
      "text/plain": [
       "'ML typically stands for Machine Learning, which is a subset of artificial intelligence that involves the development of algorithms and statistical models that enable computers to learn from and make predictions or decisions based on data without being explicitly programmed. Machine learning is used in a wide range of applications, including image and speech recognition, recommendation systems, and autonomous vehicles.'"
      ]
     },
     "execution_count": 20,
     "metadata": {},
     "output_type": "execute_result"
    }
   ],
   "source": [
    "response.choices[0].message.content"
   ]
  },
  {
   "cell_type": "code",
   "execution_count": null,
   "id": "250bc05f-0a0e-4c54-93ba-fbc2246d9873",
   "metadata": {},
   "outputs": [],
   "source": []
  }
 ],
 "metadata": {
  "kernelspec": {
   "display_name": "Python 3 (ipykernel)",
   "language": "python",
   "name": "python3"
  },
  "language_info": {
   "codemirror_mode": {
    "name": "ipython",
    "version": 3
   },
   "file_extension": ".py",
   "mimetype": "text/x-python",
   "name": "python",
   "nbconvert_exporter": "python",
   "pygments_lexer": "ipython3",
   "version": "3.11.2"
  }
 },
 "nbformat": 4,
 "nbformat_minor": 5
}
